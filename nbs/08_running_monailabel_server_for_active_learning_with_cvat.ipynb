{
 "cells": [
  {
   "cell_type": "markdown",
   "id": "1ad87f1c",
   "metadata": {},
   "source": [
    "# 09: Running MONAILabel Server for Active Learning with CVAT\n",
    "\n",
    "In this notebook, we will set up the MONAILabel server for an active learning workflow. This involves connecting the server to CVAT, loading pre-trained models, and setting up active learning loops for iterative fine-tuning and segmentation tasks.\n",
    "\n",
    "MONAILabel provides the ability to score unlabeled images using methods like **epistemic uncertainty**, select the most uncertain ones, and automatically upload them to CVAT for annotation.\n",
    "\n",
    "## Key Steps in this Notebook:\n",
    "1. **Start the MONAILabel server for Active Learning**: We'll connect MONAILabel to CVAT with credentials, load the dataset, and start the segmentation task.\n",
    "2. **Fine-tune models through active learning**: Set up MONAILabel to identify the most uncertain images and send them to CVAT for annotation.\n"
   ]
  },
  {
   "cell_type": "markdown",
   "id": "8afefef9",
   "metadata": {},
   "source": [
    "### Step 1: Launch the MONAILabel Server for Active Learning\n",
    "\n",
    "We will use Docker to run the MONAILabel server with GPU support and set up active learning. This command mounts your dataset and app folders for MONAILabel to access, and uses port 8080 for CVAT to connect to the MONAILabel server.\n",
    "\n",
    "Run the following Docker command:\n",
    "\n",
    "```bash\n",
    "docker run -it --rm --gpus all --ipc=host --net=host -p 8080:8080 -v /home/exsdatalab/data/endo:/opt/monai/datasets -v /home/exsdatalab/data/apps:/opt/monai/apps projectmonai/monailabel:latest bash\n",
    "```\n",
    "\n",
    "Once inside the container, initialize the environment and start the MONAILabel server for active learning.\n",
    "\n",
    "### **Running the Initialization Script**\n",
    "\n",
    "Use the helper script `run_monailabelinits.sh` to start the MONAILabel server with all the necessary configurations for active learning:\n",
    "\n",
    "```bash\n",
    "./datasets/run_monailabelinits.sh\n",
    "```\n",
    "\n",
    "This script does the following:\n",
    "\n",
    "1. **Environment Variables**:\n",
    "   ```bash\n",
    "   export MONAI_LABEL_DATASTORE=cvat\n",
    "   export MONAI_LABEL_DATASTORE_URL=http://127.0.0.1:8080\n",
    "   export MONAI_LABEL_DATASTORE_USERNAME=<USERNAME>\n",
    "   export MONAI_LABEL_DATASTORE_PASSWORD=<PASSWORD>\n",
    "   ```\n",
    "\n",
    "2. **Start the MONAILabel Server**:\n",
    "   ```bash\n",
    "   monailabel start_server \\\n",
    "     --app apps/endoscopy \\\n",
    "     --studies datasets/images \\\n",
    "     --conf models tooltracking \\\n",
    "     --conf epistemic_enabled true \\\n",
    "     --conf epistemic_top_k 10\n",
    "   ```\n",
    "\n",
    "This command will start the MONAILabel server and enable active learning. It will score unlabeled images using epistemic uncertainty and automatically upload the top 10 most uncertain images to CVAT for annotation.\n",
    "\n",
    "### **Explanation**:\n",
    "- **MONAI_LABEL_DATASTORE**: Defines that we are using CVAT as the datastore.\n",
    "- **MONAI_LABEL_DATASTORE_URL**: Specifies the CVAT server URL (running on `http://127.0.0.1:8080`).\n",
    "- **MONAI_LABEL_DATASTORE_USERNAME and PASSWORD**: Your CVAT login credentials.\n",
    "- **--app**: Specifies the location of the endoscopic app (e.g., tool tracking).\n",
    "- **--studies**: Specifies the dataset that MONAILabel will use.\n",
    "- **--conf models tooltracking**: Loads the pre-trained model for surgical tool segmentation.\n",
    "- **--conf epistemic_enabled true**: Enables epistemic uncertainty scoring for active learning.\n",
    "- **--conf epistemic_top_k 10**: Specifies that the top 10 most uncertain images will be selected and uploaded to CVAT for annotation.\n"
   ]
  },
  {
   "cell_type": "markdown",
   "id": "5bbef992",
   "metadata": {},
   "source": [
    "### What Happens After the Server Starts\n",
    "\n",
    "- MONAILabel will begin **scoring** each unlabeled image using **epistemic uncertainty**.\n",
    "- The server will automatically select the **top 10 most uncertain images** and upload them to CVAT for annotation.\n",
    "- The **active learning loop** starts: once these images are annotated, MONAILabel will fine-tune the model and continue selecting new uncertain images in subsequent iterations.\n",
    "- You can view the automatically created projects and tasks in CVAT at `http://127.0.0.1:8080`.\n",
    "\n",
    "### Next Steps\n",
    "In the next notebook, we will cover:\n",
    "1. Accessing projects and tasks in CVAT.\n",
    "2. Uploading preannotations.\n",
    "3. Submitting them to MONAILabel to kick-start the active learning workflow.\n"
   ]
  }
 ],
 "metadata": {
  "kernelspec": {
   "display_name": "python3",
   "language": "python",
   "name": "python3"
  }
 },
 "nbformat": 4,
 "nbformat_minor": 5
}
