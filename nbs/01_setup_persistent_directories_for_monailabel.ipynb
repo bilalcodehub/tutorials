{
 "cells": [
  {
   "cell_type": "markdown",
   "id": "7f01ff5b",
   "metadata": {},
   "source": [
    "# Ensuring Docker Persistence with MONAILabel for Medical AI\n",
    "\n",
    "One of the challenges of working with Docker containers is persistence. By default, Docker containers are stateless, meaning any data or configurations made inside the container will be lost once the container is stopped. In this notebook, we will address this issue by setting up two key folders on your local machine, ensuring that your data persists across Docker sessions.\n",
    "\n",
    "The two folders we will create are:\n",
    "- datasets: This folder will store all your labeling data, existing labels, and the annotations you make in MONAILabel.\n",
    "- apps: This folder will store the MONAILabel apps, such as the Endoscopy app, which can be customized for your use case.\n",
    "\n",
    "These folders will be mapped (or mounted) to the MONAILabel Docker container to ensure that your data and applications are not lost when the container is stopped.\n"
   ]
  },
  {
   "cell_type": "markdown",
   "id": "507a343a",
   "metadata": {},
   "source": [
    "### Step 1: Creating the Folders for Persistent Storage\n",
    "\n",
    "We will create two folders, `datasets` and `apps`, in a directory of your choice on your local machine. These folders will later be mapped to the MONAILabel Docker container.\n",
    "\n",
    "1. **Create the `datasets` folder**:\n",
    "   This folder will store all the medical images and annotations, including any pre-existing labels.\n",
    "\n",
    "   In your terminal, run:\n",
    "   ```bash\n",
    "   !mkdir -p ~/monailabel_workspace/datasets\n",
    "   ```\n",
    "\n",
    "2. **Create the `apps` folder**:\n",
    "   This folder will store the MONAILabel apps, including the Endoscopy tool tracking app. You can also customize these apps for your specific use case.\n",
    "\n",
    "   In your terminal, run:\n",
    "   ```bash\n",
    "   !mkdir -p ~/monailabel_workspace/apps\n",
    "   ```\n"
   ]
  },
  {
   "cell_type": "markdown",
   "id": "9673a1ee",
   "metadata": {},
   "source": [
    "### Step 2: Verifying the Folder Creation\n",
    "\n",
    "You can verify that the directories were created successfully by listing the contents of the `monailabel_workspace` folder.\n",
    "\n",
    "Run:\n",
    "```bash\n",
    "!ls -la ~/monailabel_workspace\n",
    "```\n",
    "\n",
    "You should see the following output with both the `datasets` and `apps` folders listed:\n",
    "```\n",
    "drwxr-xr-x 2 user user 4096 Oct 25 14:30 datasets\n",
    "drwxr-xr-x 2 user user 4096 Oct 25 14:30 apps\n",
    "```\n"
   ]
  },
  {
   "cell_type": "markdown",
   "id": "3932643a",
   "metadata": {},
   "source": [
    "### Step 3: Understanding Docker Volume Mapping\n",
    "\n",
    "Docker allows us to map directories on the host machine (your local system) to directories inside the Docker container. This is crucial for ensuring persistence. When we run the MONAILabel container in the next tutorial, we will map the `datasets` and `apps` folders we just created to the corresponding locations inside the Docker container.\n",
    "\n",
    "Here’s how the volume mapping works:\n",
    "\n",
    "- **`datasets`**: The local `~/monailabel_workspace/datasets` folder will be mapped to `/workspace/datasets` inside the container.\n",
    "- **`apps`**: The local `~/monailabel_workspace/apps` folder will be mapped to `/workspace/apps` inside the container.\n",
    "\n",
    "This ensures that any data or apps you add to these directories will persist even after the Docker container is stopped.\n"
   ]
  },
  {
   "cell_type": "markdown",
   "id": "1ab01ab0",
   "metadata": {},
   "source": [
    "### Step 4: Preparing for MONAILabel Setup\n",
    "\n",
    "Now that the folders for persistence are ready, in the next notebook, we will install MONAILabel in a Docker container and map these folders. This will allow you to:\n",
    "- Store and access your medical images and annotations in the `dataset` folder.\n",
    "- Use the `apps` folder to store and modify MONAILabel apps, including the Endoscopy tool tracking app.\n",
    "\n",
    "In the next notebook, we will:\n",
    "- Install the MONAILabel Docker container.\n",
    "- Map the `datasets` and `apps` folders to ensure data persistence.\n",
    "- Set up the Endoscopy tool tracking app inside the `apps` folder for customization.\n"
   ]
  },
  {
   "cell_type": "code",
   "execution_count": null,
   "id": "41949025-1c92-4f45-8d97-f3005119a6c7",
   "metadata": {},
   "outputs": [],
   "source": []
  }
 ],
 "metadata": {
  "kernelspec": {
   "display_name": "python3",
   "language": "python",
   "name": "python3"
  }
 },
 "nbformat": 4,
 "nbformat_minor": 5
}
