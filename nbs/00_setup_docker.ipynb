{
 "cells": [
  {
   "cell_type": "markdown",
   "id": "83f523bb",
   "metadata": {},
   "source": [
    "# Installing Docker for Machine Learning in Medicine\n",
    "\n",
    "In this notebook, we will guide you through the installation of Docker on different platforms (Linux, Windows, and macOS). Docker allows us to create consistent environments across machines, which is especially important for running machine learning tools like MONAILabel and CVAT.\n",
    "\n",
    "By the end of this tutorial, Docker will be installed and verified on your system, ready for further configurations in the next tutorials.\n"
   ]
  },
  {
   "cell_type": "markdown",
   "id": "63da0971",
   "metadata": {},
   "source": [
    "### Step 1: Install Docker\n",
    "\n",
    "**Note:** Docker Compose is now bundled with Docker, so a separate installation of `docker-compose` is no longer necessary. We will walk through platform-specific installation instructions for Docker.\n"
   ]
  },
  {
   "cell_type": "markdown",
   "id": "69b5e987",
   "metadata": {},
   "source": [
    "### Docker Installation on Linux\n",
    "\n",
    "1. **Update Your Packages**:  \n",
    "   Before installing Docker, update your package repository:\n",
    "   ```bash\n",
    "   sudo apt update\n",
    "   sudo apt upgrade\n",
    "   ```\n",
    "\n",
    "2. **Install Required Packages**:  \n",
    "   Install dependencies for Docker installation:\n",
    "   ```bash\n",
    "   sudo apt install apt-transport-https ca-certificates curl software-properties-common\n",
    "   ```\n",
    "\n",
    "3. **Add Docker’s Official GPG Key and Repository**:\n",
    "   ```bash\n",
    "   curl -fsSL https://download.docker.com/linux/ubuntu/gpg | sudo gpg --dearmor -o /usr/share/keyrings/docker-archive-keyring.gpg\n",
    "   sudo add-apt-repository \"deb [arch=amd64 signed-by=/usr/share/keyrings/docker-archive-keyring.gpg] https://download.docker.com/linux/ubuntu $(lsb_release -cs) stable\"\n",
    "   ```\n",
    "\n",
    "4. **Install Docker**:  \n",
    "   After adding Docker’s official repository, install Docker:\n",
    "   ```bash\n",
    "   sudo apt update\n",
    "   sudo apt install docker-ce docker-ce-cli containerd.io\n",
    "   ```\n",
    "\n",
    "5. **Verify Installation**:  \n",
    "   Check if Docker is installed correctly by running:\n",
    "   ```bash\n",
    "   docker --version\n",
    "   ```\n",
    "\n",
    "6. **Add Your User to the Docker Group (Optional)**:  \n",
    "   To run Docker commands without `sudo`:\n",
    "   ```bash\n",
    "   sudo usermod -aG docker $USER\n",
    "   ```\n",
    "   Log out and back in again for this to take effect.\n",
    "\n",
    "7. **Test the Installation**:  \n",
    "   Run a test container to ensure Docker is working correctly:\n",
    "   ```bash\n",
    "   docker run hello-world\n",
    "   ```\n"
   ]
  },
  {
   "cell_type": "markdown",
   "id": "9cbb3617",
   "metadata": {},
   "source": [
    "### Docker Installation on Windows\n",
    "\n",
    "1. **Install Docker Desktop**:  \n",
    "   Docker Desktop is required for Windows. You can download it from [Docker’s official page](https://www.docker.com/products/docker-desktop).\n",
    "\n",
    "2. **Enable WSL2 (Windows Subsystem for Linux)**:  \n",
    "   Docker Desktop for Windows requires WSL2. To install and configure WSL2:\n",
    "   - Open PowerShell as an Administrator and run:\n",
    "     ```bash\n",
    "     wsl --install\n",
    "     ```\n",
    "   - Reboot your system if prompted.\n",
    "\n",
    "3. **Install Docker Desktop**:  \n",
    "   - Run the Docker Desktop installer and follow the installation prompts.\n",
    "   - After installation, start Docker Desktop from the Start Menu.\n",
    "\n",
    "4. **Verify Installation**:  \n",
    "   Open a terminal (PowerShell or CMD) and run:\n",
    "   ```bash\n",
    "   docker --version\n",
    "   ```\n",
    "\n",
    "5. **Test the Installation**:  \n",
    "   To test Docker, run the following in your terminal:\n",
    "   ```bash\n",
    "   docker run hello-world\n",
    "   ```\n"
   ]
  },
  {
   "cell_type": "markdown",
   "id": "709d74bc",
   "metadata": {},
   "source": [
    "### Docker Installation on macOS\n",
    "\n",
    "1. **Download Docker Desktop for Mac**:  \n",
    "   You can download the Docker Desktop installer for macOS from [Docker’s official page](https://www.docker.com/products/docker-desktop).\n",
    "\n",
    "2. **Install Docker Desktop**:  \n",
    "   - Double-click the downloaded `.dmg` file and drag the Docker icon to your Applications folder.\n",
    "   - Open Docker from your Applications.\n",
    "\n",
    "3. **Verify Installation**:  \n",
    "   Once Docker is installed, open a terminal and check the version:\n",
    "   ```bash\n",
    "   docker --version\n",
    "   ```\n",
    "\n",
    "4. **Test the Installation**:  \n",
    "   Run the following command to check if Docker is working correctly:\n",
    "   ```bash\n",
    "   docker run hello-world\n",
    "   ```\n"
   ]
  },
  {
   "cell_type": "markdown",
   "id": "37faf5db",
   "metadata": {},
   "source": [
    "### Common Issues and Troubleshooting\n",
    "\n",
    "Here are some common issues users might face during Docker installation:\n",
    "\n",
    "1. **Permission Denied (Linux)**:  \n",
    "   If you get a permission error when running Docker commands without `sudo`, ensure that your user is added to the `docker` group as explained above:\n",
    "   ```bash\n",
    "   sudo usermod -aG docker $USER\n",
    "   ```\n",
    "\n",
    "2. **WSL2 Errors (Windows)**:  \n",
    "   If Docker Desktop fails to run on Windows, ensure that WSL2 is properly installed. You can manually update your WSL kernel with:\n",
    "   ```bash\n",
    "   wsl --update\n",
    "   ```\n",
    "\n",
    "3. **macOS Network Issues**:  \n",
    "   If Docker cannot access the internet, ensure that it is not blocked by your firewall or network settings. Restarting Docker Desktop can also resolve these issues.\n"
   ]
  },
  {
   "cell_type": "markdown",
   "id": "4e84ee25",
   "metadata": {},
   "source": [
    "### Next Steps\n",
    "\n",
    "Congratulations! Docker is now installed and running on your system. In the next notebook, we will cover how to set up MONAILabel and CVAT using Docker. Ensure Docker is running in the background as it will be required in subsequent tutorials.\n"
   ]
  }
 ],
 "metadata": {
  "kernelspec": {
   "display_name": "python3",
   "language": "python",
   "name": "python3"
  }
 },
 "nbformat": 4,
 "nbformat_minor": 5
}
